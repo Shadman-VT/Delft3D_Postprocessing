{
 "cells": [
  {
   "cell_type": "code",
   "execution_count": 1,
   "id": "2e7167d7-3b8b-4b6b-8df3-f4ccf18ac8ee",
   "metadata": {},
   "outputs": [
    {
     "name": "stdout",
     "output_type": "stream",
     "text": [
      "MAE: 0.11m;  RMSE: 0.13m;  NSE: 0.65;  KGE: 0.72\n",
      "MAE: 0.13m;  RMSE: 0.17m;  NSE: 0.69;  KGE: 0.66\n",
      "MAE: 0.07m;  RMSE: 0.08m;  NSE: 0.88;  KGE: 0.85\n",
      "MAE: 0.11m;  RMSE: 0.12m;  NSE: 0.77;  KGE: 0.77\n",
      "MAE: 0.12m;  RMSE: 0.14m;  NSE: 0.88;  KGE: 0.85\n",
      "MAE: 0.13m;  RMSE: 0.15m;  NSE: 0.44;  KGE: 0.71\n",
      "MAE: 0.22m;  RMSE: 0.26m;  NSE: 0.75;  KGE: 0.64\n",
      "MAE: 0.1m;  RMSE: 0.12m;  NSE: 0.28;  KGE: 0.69\n",
      "MAE: 0.17m;  RMSE: 0.21m;  NSE: 0.81;  KGE: 0.74\n",
      "MAE: 0.11m;  RMSE: 0.13m;  NSE: 0.77;  KGE: 0.75\n",
      "MAE: 0.15m;  RMSE: 0.18m;  NSE: 0.79;  KGE: 0.78\n",
      "[MAE, RMSE, NSE, KGE]\n"
     ]
    }
   ],
   "source": [
    "### Author: Md Shadman Sakib 4/1/2024\n",
    "### Input: .csv files of each observation station having observation data and simulation output\n",
    "### Output: Subplot timeseries graphs for each individual stations.\n",
    "### The optimum simulation can be selected using the simulation id. This is used to feed data into the evaluate function to caluclate the RMSE.\n",
    "### The start date and end date is sued to calcualt ethe metric using the data within this interval\n",
    "### Tt also dictates the length of the plot.\n",
    "### There are missing values in the observed dataset. So, before feeding the data into the evaluate metric, the nan values are dropped from the dataframe. \n",
    "### Ensemble plot\n",
    "### Output: \n",
    "\n",
    "import matplotlib.pyplot as plt\n",
    "import numpy as np\n",
    "import pandas as pd\n",
    "import seaborn as sns\n",
    "from sklearn.metrics import r2_score\n",
    "from pandas.io.formats.style import Styler\n",
    "import matplotlib.dates as mdates\n",
    "import glob\n",
    "%matplotlib qt\n",
    "\n",
    "def evaluate(obs_wl, sim_wl):\n",
    "    from sklearn.metrics import r2_score\n",
    "    import numpy as np\n",
    "    import pandas as pd\n",
    "    \n",
    "    # Calculate coefficient of determination (true vs. predicted)\n",
    "    cd = r2_score(obs_wl, sim_wl)\n",
    "    # Calculate correlation matrix (R)\n",
    "    R = np.corrcoef(sim_wl, obs_wl)  \n",
    "    # Calculate the mean absolute error (MAE)\n",
    "    res = sim_wl - obs_wl\n",
    "    res_abs = res.abs()\n",
    "    MAE = res_abs.mean()\n",
    "    # Calculate the mean square error (MSE)\n",
    "    res_pow = res.pow(2)\n",
    "    MSE = res_pow.mean()\n",
    "    # Calculate the root-mean square error (RMSE)\n",
    "    RMSE = np.sqrt(MSE)\n",
    "    # Calculate Kling-Gupta Efficiency\n",
    "    sd_y_sim = np.std(sim_wl)\n",
    "    sd_y_obs = np.std(obs_wl)\n",
    "    avr_y_sim = np.mean(sim_wl)\n",
    "    avr_y_obs = np.mean(obs_wl)\n",
    "    alpha=sd_y_sim/sd_y_obs\n",
    "    beta=avr_y_sim/avr_y_obs\n",
    "    KGE = 1 - np.sqrt(np.square(R[0,1]-1) + np.square(alpha-1) + np.square(beta-1))\n",
    "    # Calculate Nash-Sutcliffe Efficiency\n",
    "    res2 = obs_wl - np.mean(obs_wl)\n",
    "    res2_pow = res2.pow(2)\n",
    "    NSE = 1 - (res_pow.sum()/res2_pow.sum())\n",
    "    return np.round(np.array([MAE, RMSE, NSE, KGE]),2)\n",
    "\n",
    "\n",
    "station_dict = {\n",
    "    \"SP\": \"Sewells Point, VA\",\n",
    "    \"MP\": \"Money Point, VA\",\n",
    "    \"KK\": \"Kiptopeke, VA\",\n",
    "    \"WAC\": \"Wachapreague, VA\",\n",
    "    \"YOR\": \"Yorktown USCG, VA\",\n",
    "    \"WP\": \"Windmill Point, VA\",\n",
    "    \"OC\": \"Ocean City Inlet, MD\",\n",
    "    \"LEW\": \"Lewisetta, VA\",\n",
    "    \"SI\": \"Solomons Island, MD\",\n",
    "    \"DC\": \"Washington, DC\",\n",
    "    \"BH\": \"Bishops Head, MD\",\n",
    "    \"CC\": \"Chesapeake City, MD\",\n",
    "    \"BAL\": \"Baltimore, MD\",\n",
    "    \"TB\": \"Tolchester Beach, MD\",\n",
    "    \"ANN\": \"Annapolis, MD\",\n",
    "    \"CAM\": \"Cambridge, MD\",\n",
    "    \"DAH\": \"Dahlgren, VA\",\n",
    "    \"CBBT\": \"CBBT, Chesapeake Channel, VA\"\n",
    "}\n",
    "\n",
    "#-------------------------------INPUT START---------------------------------------------------------------#\n",
    "\n",
    "local_path_set=r\"E:\\VirginiaTech-Research\\ChesapeakeModel\\CS_Tester\\ExtremeEvent\\SandyCS_0.021_Ocean_0.20\\Results\"\n",
    "data_paths=glob.glob(local_path_set+\"\\*.csv\")\n",
    "optimal_col_index=2  # set it to the col index you want to calcualte the metric for\n",
    "\n",
    "# Specify the datetime to find\n",
    "start_date = '2012-10-27 00:00:00'\n",
    "end_date = '2012-11-02 00:00:00'\n",
    "\n",
    "plt.rcParams.update({'font.size': 10.5})\n",
    "label_subplots=[-2,-3]\n",
    "#-------------------------------INPUT END-----------------------------------------------------------------#\n",
    "#---------------------------------------------------------------------------------------------------------#\n",
    "#-------------------------------DATA PROCESSING START-----------------------------------------------------#\n",
    "\n",
    "\n",
    "station_count=len(data_paths)\n",
    "\n",
    "num_rows = 6 \n",
    "num_cols = 2\n",
    "\n",
    "\n",
    "fig, axs = plt.subplots(num_rows, num_cols, figsize=(15, 11.25))\n",
    "fig.subplots_adjust(top=0.9) \n",
    "\n",
    "# Initialize subplot indices\n",
    "row_index = 0\n",
    "col_index = 0\n",
    "\n",
    "fig.delaxes(axs[num_rows-1,num_cols-1])  # Remove the last subplot (right side of the last row)\n",
    "\n",
    "\n",
    "### flattenig all axes for inserting date times\n",
    "axs_datetime = axs.flatten()\n",
    "\n",
    "    \n",
    "for data_path in data_paths:\n",
    "\n",
    "    data = pd.read_csv(data_path)\n",
    "    #sim_code=data.columns[optimal_sim_id+2]\n",
    "    station=data_path.split('\\\\')[-1].split('.')[0]\n",
    "    data['DateTime (GMT)'] = data['DateTime (GMT)'].astype('datetime64[ns]')\n",
    "\n",
    "    # Find index of specific datetime to crop the plot\n",
    "    start_index = data[data['DateTime (GMT)'] == start_date].index[0]\n",
    "    end_index = data[data['DateTime (GMT)'] == end_date].index[0]+1\n",
    "\n",
    "\n",
    "    ### calculating the metrics within the set timeframe\n",
    "    ## titl: setting up/annotating the evaluation metrics on to the graphs\n",
    "    ### drop the nan values where there are missing data\n",
    "    ################################################################################################################################################\n",
    "    data_storm=data[start_index:end_index]\n",
    "    data_NAN_filtered = data_storm.dropna(subset=['NOAA WL (m)'])\n",
    "    \n",
    "    obs_wl=data_NAN_filtered['NOAA WL (m)']\n",
    "    sim_wl=data_NAN_filtered.iloc[:,optimal_col_index] \n",
    "    \n",
    "    eval_met=evaluate(obs_wl, sim_wl) # [MAE, RMSE, NSE, KGE]\n",
    "    station_title=station_dict[station]+' ['+station+']'\n",
    "    title_met='MAE: '+str(eval_met[0])+'m; '+' RMSE: '+str(eval_met[1])+'m; '+' NSE: '+str(eval_met[2])+'; '+' KGE: '+str(eval_met[3]) \n",
    "    \n",
    "    ################################################################################################################################################\n",
    "\n",
    "    for j in data.columns[2:]:\n",
    "        axs[row_index, col_index].plot(data['DateTime (GMT)'][start_index:end_index], data[j][start_index:end_index], label='Simulated', c='k')\n",
    "        \n",
    "    axs[row_index, col_index].scatter(data['DateTime (GMT)'][start_index:end_index], data['NOAA WL (m)'][start_index:end_index], label='Observation',c='r', s=2)\n",
    "    axs[row_index, col_index].set_ylabel('Water level [m]')\n",
    "    axs[row_index, col_index].xaxis.set_major_formatter(mdates.DateFormatter('%d/%b'))\n",
    "    axs[row_index, col_index].xaxis.set_major_locator(mdates.DayLocator(interval=1))\n",
    "\n",
    "    print(title_met)\n",
    "    \n",
    "    \n",
    "    current_ylim = axs[row_index, col_index].get_ylim()\n",
    "    axs[row_index, col_index].set_ylim(current_ylim[0], current_ylim[1] + 0.175 * (current_ylim[1] - current_ylim[0]))\n",
    "    \n",
    "    axs[row_index, col_index].text(0.98, 0.95, station_title, transform=axs[row_index, col_index].transAxes, fontsize=10.5, verticalalignment='top', horizontalalignment='right')\n",
    "    axs[row_index, col_index].text(0.05, 0.95, title_met, transform=axs[row_index, col_index].transAxes, fontsize=10.5, verticalalignment='top', horizontalalignment='left')\n",
    "\n",
    "\n",
    "    if row_index == 0 and col_index == 0:\n",
    "        axs[row_index, col_index].legend(loc='lower right')\n",
    "\n",
    "    \n",
    "    # removing labels from all axes\n",
    "    axs[row_index, col_index].set_xticklabels([]) # this command removes the x-axis values\n",
    "\n",
    "    # Update subplot indices\n",
    "    if col_index == num_cols - 1:\n",
    "        row_index += 1\n",
    "        col_index = 0\n",
    "    else:\n",
    "        col_index += 1\n",
    "\n",
    "\n",
    "### reinstating labels to required subplots\n",
    "\n",
    "\n",
    "for a in label_subplots:\n",
    "    axs_datetime[a].xaxis.set_major_formatter(mdates.DateFormatter('%d/%b'))\n",
    "    axs_datetime[a].xaxis.set_major_locator(mdates.DayLocator(interval=1))\n",
    "\n",
    "\n",
    "fig.subplots_adjust(top=0.983, bottom=0.044, left=0.045, right=0.989, hspace=0.15, wspace=0.120)\n",
    "#fig.tight_layout()\n",
    "\n",
    "print('[MAE, RMSE, NSE, KGE]')"
   ]
  },
  {
   "cell_type": "code",
   "execution_count": 43,
   "id": "a12719fa-fa29-40ae-b0d4-a3f897f51016",
   "metadata": {},
   "outputs": [
    {
     "data": {
      "text/plain": [
       "<Axes: >"
      ]
     },
     "execution_count": 43,
     "metadata": {},
     "output_type": "execute_result"
    }
   ],
   "source": [
    "axs_datetime[-1]"
   ]
  },
  {
   "cell_type": "code",
   "execution_count": 14,
   "id": "eb099155-57ad-4914-be9f-4d932a9b4f73",
   "metadata": {},
   "outputs": [
    {
     "data": {
      "text/plain": [
       "2641"
      ]
     },
     "execution_count": 14,
     "metadata": {},
     "output_type": "execute_result"
    }
   ],
   "source": [
    "len(data)"
   ]
  },
  {
   "cell_type": "code",
   "execution_count": 16,
   "id": "ce197350-fe54-4c27-a733-1133de95ac8f",
   "metadata": {},
   "outputs": [
    {
     "data": {
      "text/plain": [
       "1441"
      ]
     },
     "execution_count": 16,
     "metadata": {},
     "output_type": "execute_result"
    }
   ],
   "source": [
    "len(data_strom)"
   ]
  },
  {
   "cell_type": "code",
   "execution_count": 36,
   "id": "e75f2295-976e-4f3b-98be-d46f47d2e1e5",
   "metadata": {},
   "outputs": [
    {
     "name": "stderr",
     "output_type": "stream",
     "text": [
      "C:\\Users\\Shadman\\AppData\\Local\\Temp\\ipykernel_33876\\3008594757.py:40: UserWarning: tight_layout not applied: number of columns in subplot specifications must be multiples of one another.\n",
      "  plt.tight_layout()\n"
     ]
    }
   ],
   "source": []
  },
  {
   "cell_type": "code",
   "execution_count": null,
   "id": "15e583f3-5c30-453d-8091-95e6baf63205",
   "metadata": {},
   "outputs": [],
   "source": []
  },
  {
   "cell_type": "code",
   "execution_count": 30,
   "id": "1dbce012-5959-47e5-81ca-7854d997f216",
   "metadata": {},
   "outputs": [],
   "source": []
  },
  {
   "cell_type": "code",
   "execution_count": null,
   "id": "784f9a30-f147-49e5-bfa0-d3d4c96428b6",
   "metadata": {},
   "outputs": [],
   "source": []
  }
 ],
 "metadata": {
  "kernelspec": {
   "display_name": "Python 3 (ipykernel)",
   "language": "python",
   "name": "python3"
  },
  "language_info": {
   "codemirror_mode": {
    "name": "ipython",
    "version": 3
   },
   "file_extension": ".py",
   "mimetype": "text/x-python",
   "name": "python",
   "nbconvert_exporter": "python",
   "pygments_lexer": "ipython3",
   "version": "3.11.7"
  }
 },
 "nbformat": 4,
 "nbformat_minor": 5
}
